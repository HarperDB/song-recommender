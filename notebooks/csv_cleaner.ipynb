{
 "cells": [
  {
   "cell_type": "markdown",
   "id": "38e46499-44f9-4c4c-ae1e-8d8ffdd2b570",
   "metadata": {},
   "source": [
    "# HarperDB Song Recommender Data Cleaner\n",
    "\n",
    "This notebook cleans the original [MillionSong dataset](http://millionsongdataset.com/) to make it more useful for this project.\n",
    "\n",
    "The following data is used:\n",
    "\n",
    "**download these files into the /data/original directory**\n",
    "1. A list of all song id's, titles, and artists - [unique_tracks.txt](http://millionsongdataset.com/sites/default/files/AdditionalFiles/unique_tracks.txt)\n",
    "2. The [Echo Nest Taste Profile Subset](http://millionsongdataset.com/tasteprofile/) with user id's, song id's and play counts - [train_triplets.txt.zip](http://millionsongdataset.com/sites/default/files/challenge/train_triplets.txt.zip)\n",
    "\n",
    "The output of the following code:\n",
    "1. song_idxs.csv - a file to lookup the index for a song id (not used in training)\n",
    "2. user_idxs.csv - a file to lookup the index for a user id (not used in training)\n",
    "3. users_songs.csv - a file of all users user idx, song idx, play count pairs (main data for training)\n",
    "4. songs.csv - a file to lookup the song information from its index (used for mapping the output of the model)"
   ]
  },
  {
   "cell_type": "code",
   "execution_count": 1,
   "id": "7b5db898-8cb2-4661-a0ea-4105fb02f836",
   "metadata": {},
   "outputs": [],
   "source": [
    "import csv"
   ]
  },
  {
   "cell_type": "code",
   "execution_count": 3,
   "id": "dd1e7154-2fda-4075-9518-e1211b1dfa7a",
   "metadata": {},
   "outputs": [],
   "source": [
    "# create dictionary of users and songs\n",
    "min_play_count = 10\n",
    "min_songs = 10\n",
    "\n",
    "user_songs = {}\n",
    "with open('../data/original/train_triplets.txt') as file:\n",
    "    for line in file:\n",
    "        data = line.strip().split('\\t')\n",
    "        play_count = int(data[2])\n",
    "        if play_count < min_play_count:\n",
    "            continue\n",
    "        try:\n",
    "            user_songs[data[0]].append((data[1], play_count))\n",
    "        except:\n",
    "            user_songs[data[0]] = [(data[1], play_count)]\n",
    "\n",
    "user_songs = dict(filter(lambda x: len(x[1]) >= 10, user_songs.items()))"
   ]
  },
  {
   "cell_type": "code",
   "execution_count": 4,
   "id": "aeb5e339-982d-4d2a-b19b-3e37e2774020",
   "metadata": {},
   "outputs": [
    {
     "data": {
      "text/plain": [
       "130791"
      ]
     },
     "execution_count": 4,
     "metadata": {},
     "output_type": "execute_result"
    }
   ],
   "source": [
    "# create list of all songs\n",
    "all_songs = []\n",
    "for songs_counts in user_songs.values():\n",
    "    for song, _ in songs_counts:\n",
    "        all_songs.append(song)\n",
    "all_songs = list(set(all_songs))\n",
    "len(all_songs)"
   ]
  },
  {
   "cell_type": "code",
   "execution_count": 6,
   "id": "52aca1c8-da94-48b8-a845-a7ea865871de",
   "metadata": {},
   "outputs": [
    {
     "data": {
      "text/plain": [
       "130791"
      ]
     },
     "execution_count": 6,
     "metadata": {},
     "output_type": "execute_result"
    }
   ],
   "source": [
    "# creates song_idxs.csv\n",
    "song_idxs = {}\n",
    "with open('../data/clean/song_idxs.csv', 'w') as file:\n",
    "    file.write('song,index\\n')\n",
    "    for idx, song in enumerate(all_songs):\n",
    "        song_idxs[song] = idx\n",
    "        file.write('{},{}\\n'.format(song, idx))\n",
    "len(song_idxs)"
   ]
  },
  {
   "cell_type": "code",
   "execution_count": 13,
   "id": "5dd58a9b-f530-4bae-9a9b-fd798a5b9243",
   "metadata": {},
   "outputs": [],
   "source": [
    "# reads song_idxs.csv into a dictionary (used if rerunning the code after already writing the file)\n",
    "# song_idxs = {}\n",
    "# with open('../data/clean/song_idxs.csv') as file:\n",
    "#     next(file)\n",
    "#     for line in file:\n",
    "#         info = line.strip().split(',')\n",
    "#         song_idxs[info[0]] = int(info[1])        "
   ]
  },
  {
   "cell_type": "code",
   "execution_count": 7,
   "id": "0615620f-8e0a-4cd9-ab61-34348a68d038",
   "metadata": {},
   "outputs": [
    {
     "data": {
      "text/plain": [
       "64774"
      ]
     },
     "execution_count": 7,
     "metadata": {},
     "output_type": "execute_result"
    }
   ],
   "source": [
    "# creates user_idxs.csv\n",
    "user_idxs = {}\n",
    "with open('../data/clean/user_idxs.csv', 'w') as file:\n",
    "    file.write('user,index\\n')\n",
    "    for idx, user in enumerate(user_songs.keys()):\n",
    "        user_idxs[user] = idx\n",
    "        file.write('{},{}\\n'.format(user, idx))\n",
    "len(user_idxs)"
   ]
  },
  {
   "cell_type": "code",
   "execution_count": 8,
   "id": "1b218010-51de-4471-b9ca-ae11895c0172",
   "metadata": {},
   "outputs": [
    {
     "data": {
      "text/plain": [
       "397841"
      ]
     },
     "execution_count": 8,
     "metadata": {},
     "output_type": "execute_result"
    }
   ],
   "source": [
    "lines = 0\n",
    "with open('../data/clean/users_songs.csv', 'w') as file:\n",
    "    file.write('user_idx,song_idx,play_count\\n')\n",
    "    for user, songs_playcounts in user_songs.items():\n",
    "        user_idx = user_idxs[user]\n",
    "        play_counts = [x[1] for x in songs_playcounts]\n",
    "        avg_play_count = sum(play_counts) / len(play_counts)\n",
    "        for song, play_count in songs_playcounts:\n",
    "            if play_count >= avg_play_count:\n",
    "                pcrta = play_count / avg_play_count\n",
    "                pcrta = min(pcrta, 1)\n",
    "                song_idx = song_idxs[song]\n",
    "                file.write('{},{},{}\\n'.format(user_idx, song_idx, pcrta))\n",
    "                lines += 1\n",
    "                \n",
    "lines"
   ]
  },
  {
   "cell_type": "code",
   "execution_count": 14,
   "id": "b20c462e-2adb-4e71-90ee-0e1753babcc9",
   "metadata": {},
   "outputs": [
    {
     "name": "stdout",
     "output_type": "stream",
     "text": [
      "good 131397\n",
      "bad 868603\n"
     ]
    }
   ],
   "source": [
    "good=0\n",
    "bad=0\n",
    "with open('../data/clean/songs.csv', 'w') as songs_file:\n",
    "    writer = csv.writer(songs_file)\n",
    "    writer.writerow(['index', 'song', 'artist', 'search'])\n",
    "    with open('../data/original/unique_tracks.txt') as ut_file:\n",
    "        for line in ut_file:\n",
    "            try:\n",
    "                info = line.strip().split('<SEP>')\n",
    "                song_id = info[1]\n",
    "                song_idx = song_idxs[song_id]\n",
    "                artist = info[2]\n",
    "                song = info[3]\n",
    "                search = song.lower() + ' by ' + artist.lower()\n",
    "                writer.writerow([song_idx,song,artist,search])\n",
    "                good += 1\n",
    "            except Exception as exception:\n",
    "                bad += 1\n",
    "print('good', good)\n",
    "print('bad', bad)"
   ]
  }
 ],
 "metadata": {
  "kernelspec": {
   "display_name": "Python 3 (ipykernel)",
   "language": "python",
   "name": "python3"
  },
  "language_info": {
   "codemirror_mode": {
    "name": "ipython",
    "version": 3
   },
   "file_extension": ".py",
   "mimetype": "text/x-python",
   "name": "python",
   "nbconvert_exporter": "python",
   "pygments_lexer": "ipython3",
   "version": "3.8.10"
  }
 },
 "nbformat": 4,
 "nbformat_minor": 5
}
